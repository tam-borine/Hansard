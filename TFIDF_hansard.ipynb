{
  "nbformat": 4,
  "nbformat_minor": 0,
  "metadata": {
    "colab": {
      "name": "TFIDF_hansard.ipynb",
      "version": "0.3.2",
      "provenance": [],
      "collapsed_sections": []
    },
    "kernelspec": {
      "name": "python3",
      "display_name": "Python 3"
    }
  },
  "cells": [
    {
      "metadata": {
        "id": "e-jgcuSTyWBA",
        "colab_type": "text"
      },
      "cell_type": "markdown",
      "source": [
        "This notebook:\n",
        "\n",
        "\n",
        "*   Fetches and cleans hansard transcripts in 2017.\n",
        "*   Gets the inverse document frequency for prominent words excluding stopwords with TfidfVectorizer.\n",
        "*   Visualises the distribution and sorts and shows for a few documents the words that define it most.\n",
        "\n",
        "TODO:\n",
        "\n",
        "*   Find some way to cluser these documents by similarity using these TFIDF vectors as a feature.\n",
        "*   Once we have clusters, how to label them suitably?\n",
        "\n",
        "\n",
        "\n",
        "\n"
      ]
    },
    {
      "metadata": {
        "id": "GnkeNspOigpC",
        "colab_type": "code",
        "colab": {}
      },
      "cell_type": "code",
      "source": [
        "import urllib.request\n",
        "import xml.etree.ElementTree as ET\n",
        "from sklearn.feature_extraction.text import TfidfVectorizer"
      ],
      "execution_count": 0,
      "outputs": []
    },
    {
      "metadata": {
        "id": "bTW2xLaAvVIK",
        "colab_type": "text"
      },
      "cell_type": "markdown",
      "source": [
        "Fetch each day's hansard text from JANUARY, and append to **allResponses**"
      ]
    },
    {
      "metadata": {
        "id": "M9MRncQNiiXH",
        "colab_type": "code",
        "outputId": "d744d73b-bae8-4aa7-824e-73025490379f",
        "colab": {
          "base_uri": "https://localhost:8080/",
          "height": 238
        }
      },
      "cell_type": "code",
      "source": [
        "allResponses = []\n",
        "url_prefix = 'https://www.theyworkforyou.com/pwdata/scrapedxml/debates/debates'\n",
        "url_suffix = '.xml'\n",
        "\n",
        "yyyy = 2017\n",
        "for mm in range(1,13):\n",
        "  debates_count = 0\n",
        "  for dd in range(1,32):\n",
        "    for c in range(97,101):\n",
        "      constructed_date = str(yyyy) + '-' + str(mm).zfill(2) + '-' + str(dd).zfill(2) + chr(c)\n",
        "      try:\n",
        "        response = urllib.request.urlopen(url_prefix + constructed_date + url_suffix)\n",
        "        allResponses.append(response.read())\n",
        "        # print('Fetched: ' + url_prefix + constructed_date + url_suffix)\n",
        "        debates_count += 1\n",
        "        break\n",
        "      except Exception as ex:\n",
        "        # print('Not available: ' + url_prefix + constructed_date + url_suffix)\n",
        "        template = \"An exception of type {0} occurred.\"\n",
        "        message = template.format(type(ex).__name__)\n",
        "        # print(message)\n",
        "        # ignore\n",
        "        break\n",
        "  print('Fetched ' + str(debates_count) + ' debates for month: ' + str(mm))\n",
        "# NOW we have all responses\n",
        "print('TOTAL: ' + str(len(allResponses)))"
      ],
      "execution_count": 2,
      "outputs": [
        {
          "output_type": "stream",
          "text": [
            "Fetched 17 debates for month: 1\n",
            "Fetched 14 debates for month: 2\n",
            "Fetched 19 debates for month: 3\n",
            "Fetched 7 debates for month: 4\n",
            "Fetched 0 debates for month: 5\n",
            "Fetched 9 debates for month: 6\n",
            "Fetched 12 debates for month: 7\n",
            "Fetched 0 debates for month: 8\n",
            "Fetched 7 debates for month: 9\n",
            "Fetched 15 debates for month: 10\n",
            "Fetched 17 debates for month: 11\n",
            "Fetched 13 debates for month: 12\n",
            "TOTAL: 130\n"
          ],
          "name": "stdout"
        }
      ]
    },
    {
      "metadata": {
        "id": "BgEj_OzyxF9Q",
        "colab_type": "text"
      },
      "cell_type": "markdown",
      "source": [
        "Read each raw XML response from **allResponses** and strip out embedded XML, place into **documents**"
      ]
    },
    {
      "metadata": {
        "id": "OdDsWJyKw1Zp",
        "colab_type": "code",
        "outputId": "32cb0e09-3af8-42a5-ca92-438dcf7f4b9e",
        "colab": {
          "base_uri": "https://localhost:8080/",
          "height": 71
        }
      },
      "cell_type": "code",
      "source": [
        "documents = []\n",
        "\n",
        "for xml_doc in allResponses:\n",
        "  tree = ET.ElementTree(ET.fromstring(xml_doc))\n",
        "  final_str = ''\n",
        "\n",
        "  for node in tree.iter('p'):\n",
        "    childs_text = ''\n",
        "    for subnode in node:\n",
        "      if (subnode.text is not None) and (subnode.tail is not None):\n",
        "        childs_text = subnode.text + subnode.tail\n",
        "        node.remove(subnode)\n",
        "      if node.text is None:\n",
        "        continue\n",
        "      else:\n",
        "        final_str += node.text + \" \" + childs_text\n",
        "        \n",
        "  documents.append(final_str)\n",
        "\n",
        "print(len(documents))\n",
        "print(documents[0])"
      ],
      "execution_count": 3,
      "outputs": [
        {
          "output_type": "stream",
          "text": [
            "130\n",
            "I thank  the hon. Member for Blackpool South (Gordon Marsden) again for his amendments. I will begin by discussing amendment 1, which affects clause 14. I have to stress that, in the unlikely event that an FE body becomes insolvent, we want to ensure that any disruption to students’ studies is avoided or minimised as far as possible. It will be for the education administrator to deal with that, and according to the relevant clause in the Bill, they will be an insolvency practitioner—they are likely to come from one of the bigger companies and to have education experience. It will be the same system as with insolvent companies.Our expectation is that that will include discussions with the key stakeholders, local authorities and others. Where appropriate, it may also involve—I brought this up in Committee—a conversation with the care leaver’s personal adviser. We discussed in Committee the additional personal and pastoral support that care leavers might need. I undertook to consider the matter further, and I hope  the hon. Member for Luton North (Kelvin Hopkins) will be pleased that we are keeping the promise we made in Committee. We will ensure that the guidance to local authorities on their corporate parenting responsibilities, being introduced through the Children and Social Work Bill, includes advice on the role of personal advisers in the event of a college insolvency affecting a young person for whom they are responsible.“long-winded, time-consuming process”—[Official Report, Technical and Further Education Public Bill Committee,  1 December 2016; c. 174.]\n"
          ],
          "name": "stdout"
        }
      ]
    },
    {
      "metadata": {
        "id": "vXjpEOluu79Y",
        "colab_type": "code",
        "outputId": "c9e52073-1841-47e5-a616-02f3bf549aee",
        "colab": {
          "base_uri": "https://localhost:8080/",
          "height": 207
        }
      },
      "cell_type": "code",
      "source": [
        "vectorizer = TfidfVectorizer(stop_words='english')\n",
        "vectorizer.fit(documents)\n",
        "print('vectorizer.vocabulary_: ')\n",
        "first20vocab = {k: vectorizer.vocabulary_[k] for k in list(vectorizer.vocabulary_)[:20]}\n",
        "print(first20vocab)\n",
        "print('vectorizer.idf_: ')\n",
        "print(vectorizer.idf_[0:20])\n",
        "# encode document\n",
        "vector = vectorizer.transform([documents[2]])\n",
        "# summarize encoded vector\n",
        "print('vector shape and below array')\n",
        "print(vector.shape)\n",
        "print(vector.toarray()[0:20])"
      ],
      "execution_count": 6,
      "outputs": [
        {
          "output_type": "stream",
          "text": [
            "vectorizer.vocabulary_: \n",
            "{'thank': 12693, 'hon': 6463, 'member': 8243, 'blackpool': 1906, 'south': 11879, 'gordon': 5914, 'marsden': 8112, 'amendments': 1069, 'begin': 1735, 'discussing': 4130, 'amendment': 1068, 'affects': 892, 'clause': 2760, '14': 73, 'stress': 12209, 'unlikely': 13316, 'event': 4927, 'fe': 5256, 'body': 1963, 'insolvent': 6981}\n",
            "vectorizer.idf_: \n",
            "[2.09100769 5.18205014 5.18205014 5.18205014 4.77658503 5.18205014\n",
            " 5.18205014 5.18205014 5.18205014 5.18205014 5.18205014 2.06853483\n",
            " 2.57936046 5.18205014 4.77658503 5.18205014 5.18205014 5.18205014\n",
            " 5.18205014 5.18205014]\n",
            "vector shape and below array\n",
            "(1, 14100)\n",
            "[[0.08659094 0.         0.         ... 0.         0.         0.        ]]\n"
          ],
          "name": "stdout"
        }
      ]
    },
    {
      "metadata": {
        "id": "rkXJ1XERATRQ",
        "colab_type": "code",
        "outputId": "faacec72-52d1-4fcf-f6db-150b856416c3",
        "colab": {
          "base_uri": "https://localhost:8080/",
          "height": 551
        }
      },
      "cell_type": "code",
      "source": [
        "import numpy as np\n",
        "import matplotlib as plt\n",
        "\n",
        "plt.pyplot.hist(vectorizer.idf_, 25)"
      ],
      "execution_count": 7,
      "outputs": [
        {
          "output_type": "execute_result",
          "data": {
            "text/plain": [
              "(array([2.000e+00, 4.000e+00, 3.400e+01, 9.300e+01, 1.090e+02, 1.340e+02,\n",
              "        1.710e+02, 1.190e+02, 2.380e+02, 1.460e+02, 2.340e+02, 2.000e+02,\n",
              "        2.980e+02, 1.950e+02, 5.060e+02, 3.820e+02, 4.300e+02, 5.570e+02,\n",
              "        7.660e+02, 0.000e+00, 1.210e+03, 0.000e+00, 2.060e+03, 0.000e+00,\n",
              "        6.212e+03]),\n",
              " array([1.5184885 , 1.66503096, 1.81157343, 1.95811589, 2.10465836,\n",
              "        2.25120083, 2.39774329, 2.54428576, 2.69082822, 2.83737069,\n",
              "        2.98391315, 3.13045562, 3.27699809, 3.42354055, 3.57008302,\n",
              "        3.71662548, 3.86316795, 4.00971042, 4.15625288, 4.30279535,\n",
              "        4.44933781, 4.59588028, 4.74242275, 4.88896521, 5.03550768,\n",
              "        5.18205014]),\n",
              " <a list of 25 Patch objects>)"
            ]
          },
          "metadata": {
            "tags": []
          },
          "execution_count": 7
        },
        {
          "output_type": "display_data",
          "data": {
            "image/png": "[encoded data removed]",
            "text/plain": [
              "<Figure size 576x396 with 1 Axes>"
            ]
          },
          "metadata": {
            "tags": []
          }
        }
      ]
    },
    {
      "metadata": {
        "id": "y2Ih9jt4CABs",
        "colab_type": "code",
        "outputId": "5d2ccef7-58fd-496b-f222-1ae202f8dc62",
        "colab": {
          "base_uri": "https://localhost:8080/",
          "height": 2247
        }
      },
      "cell_type": "code",
      "source": [
        "count = 0\n",
        "\n",
        "for document in documents:\n",
        "  vector = vectorizer.transform([document])\n",
        "\n",
        "  documentInAnalysis = vector.toarray()[0]\n",
        "\n",
        "  flippedTokens = dict((v,k) for k,v in vectorizer.vocabulary_.items())\n",
        "\n",
        "  print(\"20 most unique words in doc #\"+str(count), [flippedTokens[x] for x in np.flipud(np.argsort(documentInAnalysis))][0:20])\n",
        "  count+=1"
      ],
      "execution_count": 8,
      "outputs": [
        {
          "output_type": "stream",
          "text": [
            "20 most unique words in doc #0 ['insolvent', 'insolvency', 'committee', 'personal', 'education', 'event', 'companies', 'clause', 'minimised', 'practitioner', 'winded', 'kelvin', 'hopkins', 'leaver', 'administrator', 'pastoral', 'consuming', '174', 'authorities', 'care']\n",
            "20 most unique words in doc #1 ['éminence', 'encompass', 'encumbrance', 'encryption', 'encouraging', 'encourages', 'encouragement', 'encouraged', 'encourage', 'encountered', 'encounter', 'encompasses', 'encompassed', 'enacts', 'endangered', 'enactment', 'enacting', 'enacted', 'enabling', 'enables']\n",
            "20 most unique words in doc #2 ['waiting', 'trolley', 'patients', 'corridors', 'trolleys', 'hours', '485', 'corridor', 'waits', 'hendrick', 'preston', 'bbc', 'reported', 'hospital', 'treated', 'figures', 'lack', 'cases', '12', '18']\n",
            "20 most unique words in doc #3 ['éminence', 'encompass', 'encumbrance', 'encryption', 'encouraging', 'encourages', 'encouragement', 'encouraged', 'encourage', 'encountered', 'encounter', 'encompasses', 'encompassed', 'enacts', 'endangered', 'enactment', 'enacting', 'enacted', 'enabling', 'enables']\n",
            "20 most unique words in doc #4 ['restrictions', 'bury', 'enthusiastic', 'technology', 'details', 'financial', '2018', 'hon', 'slightly', 'argument', 'people', 'relaxed', 'maggie', 'crept', 'throup', 'caters', 'professed', 'friend', 'run', 'erewash']\n",
            "20 most unique words in doc #5 ['people', 'young', 'interaction', 'dagenham', 'positivity', 'mori', 'ncs', 'dutifully', 'ipsos', 'evaluation', 'attest', 'rainham', 'cruddas', 'poll', 'jon', 'host', 'objection', 'seen', 'having', 'follow']\n",
            "20 most unique words in doc #6 ['hon', 'member', 'government', 'minister', 'friend', 'people', 'work', 'toilet', 'farming', 'members', 'eu', 'rural', 'farmers', 'toilets', 'order', 'glasgow', 'welfare', 'state', 'funeral', 'support']\n",
            "20 most unique words in doc #7 ['hon', 'member', 'european', 'eu', 'friend', 'europol', 'right', 'security', 'minister', 'arrest', 'warrant', 'government', 'committee', 'flood', 'uk', 'justice', 'union', 'flooding', 'information', 'operation']\n",
            "20 most unique words in doc #8 ['holocaust', 'semitism', 'hon', 'insightful', 'anne', 'member', 'definition', 'memorial', 'shipper', 'zigi', 'anti', 'remembrance', 'hendon', 'thoughtful', 'kyle', 'hove', 'jewish', 'moving', 'brigg', 'frank']\n",
            "20 most unique words in doc #9 ['merchant', 'hon', 'friend', 'member', 'navy', 'act', 'homosexual', '1994', 'armed', 'forces', 'salisbury', 'homosexuality', 'house', 'place', 'keynes', 'ships', 'gay', 'law', 'official', 'vol']\n",
            "20 most unique words in doc #10 ['éminence', 'encompass', 'encumbrance', 'encryption', 'encouraging', 'encourages', 'encouragement', 'encouraged', 'encourage', 'encountered', 'encounter', 'encompasses', 'encompassed', 'enacts', 'endangered', 'enactment', 'enacting', 'enacted', 'enabling', 'enables']\n",
            "20 most unique words in doc #11 ['éminence', 'encompass', 'encumbrance', 'encryption', 'encouraging', 'encourages', 'encouragement', 'encouraged', 'encourage', 'encountered', 'encounter', 'encompasses', 'encompassed', 'enacts', 'endangered', 'enactment', 'enacting', 'enacted', 'enabling', 'enables']\n",
            "20 most unique words in doc #12 ['éminence', 'encompass', 'encumbrance', 'encryption', 'encouraging', 'encourages', 'encouragement', 'encouraged', 'encourage', 'encountered', 'encounter', 'encompasses', 'encompassed', 'enacts', 'endangered', 'enactment', 'enacting', 'enacted', 'enabling', 'enables']\n",
            "20 most unique words in doc #13 ['hon', 'pubs', 'code', 'member', 'adjudicator', 'pub', 'cancer', 'debate', 'friend', 'breast', 'committee', 'west', 'minister', 'newby', 'kadcyla', 'house', 'drugs', 'mr', 'government', 'tenants']\n",
            "20 most unique words in doc #14 ['éminence', 'encompass', 'encumbrance', 'encryption', 'encouraging', 'encourages', 'encouragement', 'encouraged', 'encourage', 'encountered', 'encounter', 'encompasses', 'encompassed', 'enacts', 'endangered', 'enactment', 'enacting', 'enacted', 'enabling', 'enables']\n",
            "20 most unique words in doc #15 ['enrolment', 'auto', 'choices', 'transparency', 'government', 'pensions', 'sluggish', 'conciliatory', 'fca', 'regulators', 'finishing', 'chain', 'achievements', 'long', 'state', 'narrow', 'secretary', 'said', 'abrahams', 'saddleworth']\n",
            "20 most unique words in doc #16 ['schools', 'indicator', 'churn', 'westminster', 'face', 'formula', 'mobility', 'challenges', 'child', 'glittering', 'salary', 'stage', 'funding', 'education', 'forth', 'pupil', 'key', 'london', 'seventh', 'critically']\n",
            "20 most unique words in doc #17 ['hon', 'member', 'friend', 'voted', 'article', 'people', 'referendum', 'house', 'eu', 'leave', 'remain', 'future', 'government', 'trigger', '50', 'need', 'dover', 'values', 'right', 'fairfueluk']\n",
            "20 most unique words in doc #18 ['éminence', 'encompass', 'encumbrance', 'encryption', 'encouraging', 'encourages', 'encouragement', 'encouraged', 'encourage', 'encountered', 'encounter', 'encompasses', 'encompassed', 'enacts', 'endangered', 'enactment', 'enacting', 'enacted', 'enabling', 'enables']\n",
            "20 most unique words in doc #19 ['hon', 'member', 'friend', 'parking', 'bosworth', 'tredinnick', 'kevin', 'jane', 'charges', 'local', 'small', 'helen', 'doherty', 'torbay', 'radio', 'amendment', 'private', 'poverty', 'david', 'important']\n",
            "20 most unique words in doc #20 ['heather', 'wheeler', 'challenged', 'deferred', 'division', 'opinion', 'approved', 'draft', 'laid', 'regulations', 'question', 'clerks', 'wednesday', 'speaker', 'house', 'december', 'decision', 'january', '2016', '2017']\n",
            "20 most unique words in doc #21 ['éminence', 'encompass', 'encumbrance', 'encryption', 'encouraging', 'encourages', 'encouragement', 'encouraged', 'encourage', 'encountered', 'encounter', 'encompasses', 'encompassed', 'enacts', 'endangered', 'enactment', 'enacting', 'enacted', 'enabling', 'enables']\n",
            "20 most unique words in doc #22 ['802', '619', 'mayors', 'york', '17', 'meeting', 'january', 'vol', 'official', '2017', 'come', 'report', 'north', 'encouraging', 'encourages', 'encounter', 'encryption', 'encouraged', 'encumbrance', 'encourage']\n",
            "20 most unique words in doc #23 ['hon', 'member', 'settlements', 'israel', 'friend', 'fa', 'west', 'debate', 'government', 'committee', 'palestinians', 'palestinian', 'right', 'business', 'peace', 'said', 'february', 'members', 'house', 'palestine']\n",
            "20 most unique words in doc #24 ['éminence', 'encompass', 'encumbrance', 'encryption', 'encouraging', 'encourages', 'encouragement', 'encouraged', 'encourage', 'encountered', 'encounter', 'encompasses', 'encompassed', 'enacts', 'endangered', 'enactment', 'enacting', 'enacted', 'enabling', 'enables']\n",
            "20 most unique words in doc #25 ['war', 'unremembered', 'african', 'corps', 'explore', 'communities', 'project', 'men', 'great', 'reburying', 'native', 'dig', 'latrines', 'theatres', 'graves', 'globe', 'normality', 'battlefield', 'wounded', 'trenches']\n",
            "20 most unique words in doc #26 ['police', 'hon', 'member', 'friend', 'local', 'government', 'right', 'funding', 'minister', 'council', 'house', 'policing', 'services', 'steve', 'mr', '2017', 'people', 'areas', 'million', 'dorset']\n",
            "20 most unique words in doc #27 ['éminence', 'encompass', 'encumbrance', 'encryption', 'encouraging', 'encourages', 'encouragement', 'encouraged', 'encourage', 'encountered', 'encounter', 'encompasses', 'encompassed', 'enacts', 'endangered', 'enactment', 'enacting', 'enacted', 'enabling', 'enables']\n",
            "20 most unique words in doc #28 ['hon', 'convention', 'amendments', 'member', 'friend', 'second', 'friday', '24', 'march', 'government', 'istanbul', 'time', 'read', 'house', 'wearing', 'ratification', 'order', 'kew', 'medals', 'reading']\n",
            "20 most unique words in doc #29 ['éminence', 'encompass', 'encumbrance', 'encryption', 'encouraging', 'encourages', 'encouragement', 'encouraged', 'encourage', 'encountered', 'encounter', 'encompasses', 'encompassed', 'enacts', 'endangered', 'enactment', 'enacting', 'enacted', 'enabling', 'enables']\n",
            "20 most unique words in doc #30 ['hon', 'productivity', 'member', 'friend', 'government', 'right', 'people', 'economy', 'ending', 'industrial', '31', 'committee', 'strategy', 'mr', 'generation', 'march', 'intergenerational', 'plan', 'year', 'work']\n",
            "20 most unique words in doc #31 ['éminence', 'encompass', 'encumbrance', 'encryption', 'encouraging', 'encourages', 'encouragement', 'encouraged', 'encourage', 'encountered', 'encounter', 'encompasses', 'encompassed', 'enacts', 'endangered', 'enactment', 'enacting', 'enacted', 'enabling', 'enables']\n",
            "20 most unique words in doc #32 ['hon', 'member', 'women', 'gerald', 'friend', 'house', 'wales', 'debate', 'bridgend', 'government', 'female', 'right', 'great', 'place', 'march', 'sir', 'welsh', 'said', 'work', 'members']\n",
            "20 most unique words in doc #33 ['hon', 'member', 'vehicles', 'friend', 'charging', 'state', 'news', 'cars', 'parkinson', 'transport', 'nairn', 'strathspey', 'hendry', 'people', 'minister', 'autonomous', 'secretary', 'inverness', 'badenoch', 'merger']\n",
            "20 most unique words in doc #34 ['hon', 'member', 'friend', 'clause', 'house', 'minister', 'standing', 'new', 'government', 'order', 'evel', 'right', 'children', 'england', 'south', 'make', 'clauses', '83m', 'work', 'committee']\n",
            "20 most unique words in doc #35 ['nation', 'bombastic', 'sweets', 'dishing', 'decimates', 'chancellor', 'additional', 'consequentials', 'tempered', 'song', 'akin', 'teacher', 'nursery', 'sounds', 'barnett', 'notion', '350', 'whichever', 'osborne', 'excuse']\n",
            "20 most unique words in doc #36 ['money', 'heard', 'available', 'lot', 'pay', 'today', 'strayed', 'gimmicky', 'injection', 'ability', 'barbara', 'grapple', 'magic', 'worsley', 'keeley', 'billion', 'hon', 'tree', 'themes', 'really']\n",
            "20 most unique words in doc #37 ['éminence', 'encompass', 'encumbrance', 'encryption', 'encouraging', 'encourages', 'encouragement', 'encouraged', 'encourage', 'encountered', 'encounter', 'encompasses', 'encompassed', 'enacts', 'endangered', 'enactment', 'enacting', 'enacted', 'enabling', 'enables']\n",
            "20 most unique words in doc #38 ['éminence', 'encompass', 'encumbrance', 'encryption', 'encouraging', 'encourages', 'encouragement', 'encouraged', 'encourage', 'encountered', 'encounter', 'encompasses', 'encompassed', 'enacts', 'endangered', 'enactment', 'enacting', 'enacted', 'enabling', 'enables']\n",
            "20 most unique words in doc #39 ['éminence', 'encompass', 'encumbrance', 'encryption', 'encouraging', 'encourages', 'encouragement', 'encouraged', 'encourage', 'encountered', 'encounter', 'encompasses', 'encompassed', 'enacts', 'endangered', 'enactment', 'enacting', 'enacted', 'enabling', 'enables']\n",
            "20 most unique words in doc #40 ['hon', 'member', 'energy', 'customers', 'friend', 'ofcom', 'mare', 'weston', 'super', 'prices', 'debate', 'march', 'government', 'penrose', 'house', 'state', 'secretary', 'companies', 'said', 'right']\n",
            "20 most unique words in doc #41 ['prison', 'hon', 'prisons', 'member', 'friend', 'justice', 'right', 'committee', 'prisoners', 'minister', 'hc', 'mr', 'government', 'reform', 'officers', 'learned', 'courts', 'secretary', 'members', 'house']\n",
            "20 most unique words in doc #42 ['éminence', 'encompass', 'encumbrance', 'encryption', 'encouraging', 'encourages', 'encouragement', 'encouraged', 'encourage', 'encountered', 'encounter', 'encompasses', 'encompassed', 'enacts', 'endangered', 'enactment', 'enacting', 'enacted', 'enabling', 'enables']\n",
            "20 most unique words in doc #43 ['engagement', 'clauses', 'member', 'hon', 'expecting', 'new', 'ownership', 'stockton', 'members', 'savings', 'conversations', 'relate', 'encouraged', 'unnecessary', 'cunningham', 'alex', 'pension', 'develop', 'discussed', 'remain']\n",
            "20 most unique words in doc #44 ['behalf', 'hard', 'initiating', 'deserve', 'hit', 'harrow', 'pressure', 'blackman', 'continued', 'bob', 'affected', 'pleased', 'better', 'speak', 'constituents', 'able', 'thank', 'today', 'east', 'work']\n",
            "20 most unique words in doc #45 ['hon', 'friend', 'member', 'amendment', 'committee', 'local', 'aldridge', 'brownhills', 'second', 'friday', 'christchurch', 'journalists', 'house', '12', 'members', 'government', 'council', 'read', 'amendments', 'wendy']\n",
            "20 most unique words in doc #46 ['bus', 'hon', 'member', 'operators', 'transport', 'friend', 'minister', 'authorities', 'franchising', 'local', 'companies', 'new', 'house', 'services', 'order', 'mca', 'maritime', 'committee', 'right', 'said']\n",
            "20 most unique words in doc #47 ['éminence', 'encompass', 'encumbrance', 'encryption', 'encouraging', 'encourages', 'encouragement', 'encouraged', 'encourage', 'encountered', 'encounter', 'encompasses', 'encompassed', 'enacts', 'endangered', 'enactment', 'enacting', 'enacted', 'enabling', 'enables']\n",
            "20 most unique words in doc #48 ['éminence', 'encompass', 'encumbrance', 'encryption', 'encouraging', 'encourages', 'encouragement', 'encouraged', 'encourage', 'encountered', 'encounter', 'encompasses', 'encompassed', 'enacts', 'endangered', 'enactment', 'enacting', 'enacted', 'enabling', 'enables']\n",
            "20 most unique words in doc #49 ['hon', 'animal', 'member', 'friend', 'debate', 'welfare', 'government', 'house', 'committee', 'tiverton', 'honiton', 'right', 'parish', 'southend', 'members', 'state', 'animals', 'cruelty', 'birthday', 'april']\n",
            "20 most unique words in doc #50 ['éminence', 'encompass', 'encumbrance', 'encryption', 'encouraging', 'encourages', 'encouragement', 'encouraged', 'encourage', 'encountered', 'encounter', 'encompasses', 'encompassed', 'enacts', 'endangered', 'enactment', 'enacting', 'enacted', 'enabling', 'enables']\n",
            "20 most unique words in doc #51 ['hon', 'member', 'minister', 'prime', 'election', 'people', 'careers', 'friend', 'right', 'government', 'country', 'lords', 'udr', 'say', 'today', 'mandate', 'party', 'downpatrick', 'union', 'brexit']\n",
            "20 most unique words in doc #52 ['hon', 'member', 'house', 'friend', 'election', 'government', 'mr', 'minister', 'parliament', 'people', 'debate', 'leader', 'party', 'members', 'north', 'thank', 'pensions', 'committee', 'thanet', 'hope']\n",
            "20 most unique words in doc #53 ['éminence', 'encompass', 'encumbrance', 'encryption', 'encouraging', 'encourages', 'encouragement', 'encouraged', 'encourage', 'encountered', 'encounter', 'encompasses', 'encompassed', 'enacts', 'endangered', 'enactment', 'enacting', 'enacted', 'enabling', 'enables']\n",
            "20 most unique words in doc #54 ['éminence', 'encompass', 'encumbrance', 'encryption', 'encouraging', 'encourages', 'encouragement', 'encouraged', 'encourage', 'encountered', 'encounter', 'encompasses', 'encompassed', 'enacts', 'endangered', 'enactment', 'enacting', 'enacted', 'enabling', 'enables']\n",
            "20 most unique words in doc #55 ['hon', 'member', 'friend', 'government', 'minister', 'students', 'committee', 'amendments', 'people', 'ticketing', 'wales', 'right', 'west', 'election', 'lords', 'june', 'house', 'strong', 'issue', 'north']\n",
            "20 most unique words in doc #56 ['hon', 'member', 'trade', 'financial', 'stability', 'uk', 'friend', 'guidelines', 'family', 'eu', 'campaign', 'wise', 'european', 'aet', 'world', 'market', 'continues', 'secretary', 'ireland', 'kingdom']\n",
            "20 most unique words in doc #57 ['anti', 'mildly', 'elect', 'house', 'women', 'sorry', 'debate', 'mr', 'people', 'members', 'right', 'honour', 'cigar', 'punctuated', 'sandwiches', 'lager', 'elected', 'learned', 'eating', 'drinking']\n",
            "20 most unique words in doc #58 ['éminence', 'encompass', 'encumbrance', 'encryption', 'encouraging', 'encourages', 'encouragement', 'encouraged', 'encourage', 'encountered', 'encounter', 'encompasses', 'encompassed', 'enacts', 'endangered', 'enactment', 'enacting', 'enacted', 'enabling', 'enables']\n",
            "20 most unique words in doc #59 ['éminence', 'encompass', 'encumbrance', 'encryption', 'encouraging', 'encourages', 'encouragement', 'encouraged', 'encourage', 'encountered', 'encounter', 'encompasses', 'encompassed', 'enacts', 'endangered', 'enactment', 'enacting', 'enacted', 'enabling', 'enables']\n",
            "20 most unique words in doc #60 ['hon', 'member', 'right', 'friend', 'speech', 'house', 'election', 'parliament', 'queen', 'diabetes', 'mr', 'seconder', 'deal', 'country', 'members', 'party', 'government', 'learned', 'union', 'immigration']\n",
            "20 most unique words in doc #61 ['hon', 'member', 'friend', 'housing', 'maiden', 'tower', 'kensington', 'house', 'government', 'congratulate', 'new', 'speech', 'right', 'grenfell', 'canterbury', 'coad', 'dent', 'mr', 'kent', 'debate']\n",
            "20 most unique words in doc #62 ['hon', 'member', 'right', 'government', 'friend', 'agreement', 'european', 'union', 'deal', 'secretary', 'north', 'said', 'maiden', 'brexit', 'house', 'state', 'ireland', 'gibraltar', 'country', 'speech']\n",
            "20 most unique words in doc #63 ['hon', 'member', 'maiden', 'friend', 'members', 'government', 'congratulate', 'south', 'funding', 'speeches', 'education', 'mr', 'house', 'north', 'cheltenham', 'speech', 'state', 'secretary', 'aberdeen', 'schools']\n",
            "20 most unique words in doc #64 ['éminence', 'encompass', 'encumbrance', 'encryption', 'encouraging', 'encourages', 'encouragement', 'encouraged', 'encourage', 'encountered', 'encounter', 'encompasses', 'encompassed', 'enacts', 'endangered', 'enactment', 'enacting', 'enacted', 'enabling', 'enables']\n",
            "20 most unique words in doc #65 ['éminence', 'encompass', 'encumbrance', 'encryption', 'encouraging', 'encourages', 'encouragement', 'encouraged', 'encourage', 'encountered', 'encounter', 'encompasses', 'encompassed', 'enacts', 'endangered', 'enactment', 'enacting', 'enacted', 'enabling', 'enables']\n",
            "20 most unique words in doc #66 ['lee', 'rowley', 'derbyshire', 'congratulations', 'choice', 'maiden', 'elected', 'add', 'deputy', 'excellent', 'follow', 'thank', 'speaker', 'good', 'speech', 'great', 'east', 'north', 'mr', 'member']\n",
            "20 most unique words in doc #67 ['éminence', 'encompass', 'encumbrance', 'encryption', 'encouraging', 'encourages', 'encouragement', 'encouraged', 'encourage', 'encountered', 'encounter', 'encompasses', 'encompassed', 'enacts', 'endangered', 'enactment', 'enacting', 'enacted', 'enabling', 'enables']\n",
            "20 most unique words in doc #68 ['hon', 'member', 'israel', 'jury', 'right', 'friend', 'peace', 'house', 'people', 'northern', 'palestinian', 'ireland', 'culture', 'city', 'south', 'debate', 'trial', 'israeli', 'trials', 'minister']\n",
            "20 most unique words in doc #69 ['éminence', 'encompass', 'encumbrance', 'encryption', 'encouraging', 'encourages', 'encouragement', 'encouraged', 'encourage', 'encountered', 'encounter', 'encompasses', 'encompassed', 'enacts', 'endangered', 'enactment', 'enacting', 'enacted', 'enabling', 'enables']\n",
            "20 most unique words in doc #70 ['hon', 'broadband', 'member', 'friend', 'business', 'fibre', 'rates', 'superfast', 'government', 'local', 'right', 'rural', 'bt', 'relief', 'important', 'house', 'constituency', 'north', 'said', 'new']\n",
            "20 most unique words in doc #71 ['éminence', 'encompass', 'encumbrance', 'encryption', 'encouraging', 'encourages', 'encouragement', 'encouraged', 'encourage', 'encountered', 'encounter', 'encompasses', 'encompassed', 'enacts', 'endangered', 'enactment', 'enacting', 'enacted', 'enabling', 'enables']\n",
            "20 most unique words in doc #72 ['hon', 'legendary', 'defies', 'darren', 'cricket', 'description', 'kensington', 'club', 'claimed', 'friend', 'member', 'place', 'want', 'county', 'members', 'people', 'jones', 'families', 'brudenell', 'peacock']\n",
            "20 most unique words in doc #73 ['passchendaele', 'hon', 'war', 'member', 'battle', 'friend', 'july', '1917', 'house', 'debate', 'grandfather', '1916', 'glasgow', 'soldiers', 'maiden', 'right', 'british', 'ypres', 'august', '1914']\n",
            "20 most unique words in doc #74 ['a525', 'stone', 'construction', 'site', 'transported', 'woore', 'm6', 'exits', 'volume', 'crewe', 'runs', 'constituency', 'village', 'inside', 'friend', 'material', 'rail', 'roads', 'william', 'cash']\n",
            "20 most unique words in doc #75 ['85', 'lea', 'businesses', 'interests', 'multinational', 'unimportant', 'harlow', 'halfon', 'veolia', 'french', 'contributing', '60', 'causing', '70', '80', 'established', 'robert', 'valley', 'madam', 'represent']\n",
            "20 most unique words in doc #76 ['order', 'points', 'perched', 'poised', 'ordinarily', 'chair', 'raise', 'members', 'statements', 'ready', 'desire', 'rhondda', 'bryant', 'practice', 'chairman', 'pensions', 'return', 'took', 'ways', 'chris']\n",
            "20 most unique words in doc #77 ['éminence', 'encompass', 'encumbrance', 'encryption', 'encouraging', 'encourages', 'encouragement', 'encouraged', 'encourage', 'encountered', 'encounter', 'encompasses', 'encompassed', 'enacts', 'endangered', 'enactment', 'enacting', 'enacted', 'enabling', 'enables']\n",
            "20 most unique words in doc #78 ['read', 'time', 'printed', 'presentation', '57', 'friday', 'second', 'reading', 'standing', 'order', '2018', '2019', 'october', '2017', '20', 'february', 'march', '23', 'december', 'november']\n",
            "20 most unique words in doc #79 ['éminence', 'encompass', 'encumbrance', 'encryption', 'encouraging', 'encourages', 'encouragement', 'encouraged', 'encourage', 'encountered', 'encounter', 'encompasses', 'encompassed', 'enacts', 'endangered', 'enactment', 'enacting', 'enacted', 'enabling', 'enables']\n",
            "20 most unique words in doc #80 ['abusive', 'reclaim', 'stunned', 'deserving', 'manners', 'glitch', 'resorting', 'entirely', 'recovering', 'dot', 'political', 'map', 'shock', 'restore', 'blue', 'kent', 'engage', 'wake', 'normanton', 'pontefract']\n",
            "20 most unique words in doc #81 ['hon', 'member', 'right', 'government', 'friend', 'members', 'house', 'eu', 'union', 'learned', 'rights', 'european', 'debate', 'said', 'secretary', 'powers', 'vote', 'committee', 'law', 'mr']\n",
            "20 most unique words in doc #82 ['hon', 'member', 'friend', 'government', 'committee', 'committees', 'shall', 'tax', 'right', 'order', 'house', 'paragraph', 'members', 'standing', 'nomination', 'way', 'majority', 'people', 'north', 'finance']\n",
            "20 most unique words in doc #83 ['determines', '1p', 'dems', 'inescapable', 'panacea', 'care', 'lib', 'challenged', 'employ', 'issue', 'wollaston', 'sustainable', 'totnes', 'sustainability', 'honest', 'solve', 'people', 'solution', 'argued', 'ultimately']\n",
            "20 most unique words in doc #84 ['foreign', 'office', 'unit', 'set', 'murder', 'terrorism', 'commonwealth', 'procedures', 'victims', 'dayna', 'overstretches', 'logging', 'parry', 'johnathan', 'specialists', 'manslaughter', 'grady', 'access', 'information', 'ball']\n",
            "20 most unique words in doc #85 ['streatham', 'house', 'contract', 'point', 'order', 'commons', 'commission', 'blacklisting', 'chuka', 'umunna', 'hon', 'raise', 'statement', 'repair', 'conspiracy', 'wording', 'procurement', 'awarded', 'advise', 'ben']\n",
            "20 most unique words in doc #86 ['éminence', 'encompass', 'encumbrance', 'encryption', 'encouraging', 'encourages', 'encouragement', 'encouraged', 'encourage', 'encountered', 'encounter', 'encompasses', 'encompassed', 'enacts', 'endangered', 'enactment', 'enacting', 'enacted', 'enabling', 'enables']\n",
            "20 most unique words in doc #87 ['éminence', 'encompass', 'encumbrance', 'encryption', 'encouraging', 'encourages', 'encouragement', 'encouraged', 'encourage', 'encountered', 'encounter', 'encompasses', 'encompassed', 'enacts', 'endangered', 'enactment', 'enacting', 'enacted', 'enabling', 'enables']\n",
            "20 most unique words in doc #88 ['éminence', 'encompass', 'encumbrance', 'encryption', 'encouraging', 'encourages', 'encouragement', 'encouraged', 'encourage', 'encountered', 'encounter', 'encompasses', 'encompassed', 'enacts', 'endangered', 'enactment', 'enacting', 'enacted', 'enabling', 'enables']\n",
            "20 most unique words in doc #89 ['euratom', 'nuclear', 'hon', 'member', 'friend', 'uk', 'government', 'said', 'eu', 'isotopes', 'important', 'industry', 'membership', 'iaea', 'house', 'right', 'secretary', 'medical', 'point', 'blah']\n",
            "20 most unique words in doc #90 ['éminence', 'encompass', 'encumbrance', 'encryption', 'encouraging', 'encourages', 'encouragement', 'encouraged', 'encourage', 'encountered', 'encounter', 'encompasses', 'encompassed', 'enacts', 'endangered', 'enactment', 'enacting', 'enacted', 'enabling', 'enables']\n",
            "20 most unique words in doc #91 ['universal', 'credit', 'hon', 'member', 'people', 'work', 'friend', 'roll', 'government', 'right', 'payments', 'woodford', 'chingford', 'duncan', 'green', 'payment', 'tenants', 'arrears', 'need', 'mr']\n",
            "20 most unique words in doc #92 ['deepavali', 'sikhs', 'jains', 'shush', 'buddhists', 'temples', 'hindus', 'hindu', 'celebrate', 'wishing', 'visiting', 'apologise', 'rhondda', 'tomorrow', 'bryant', 'fewer', 'advance', 'hon', 'chris', 'join']\n",
            "20 most unique words in doc #93 ['hon', 'member', 'friend', 'rhondda', 'colchester', 'bryant', 'workers', 'emergency', 'quince', 'chris', 'work', 'members', 'support', 'malton', 'thirsk', 'thank', 'pay', 'congratulate', 'hollinrake', 'time']\n",
            "20 most unique words in doc #94 ['hon', 'member', 'vehicles', 'charging', 'friend', 'electric', 'vehicle', 'insurance', 'technology', 'points', 'right', 'order', 'said', 'new', 'future', 'government', 'need', 'point', 'minister', 'committee']\n",
            "20 most unique words in doc #95 ['hon', 'meters', 'universal', 'member', 'credit', 'smart', 'government', 'friend', 'roll', 'pause', 'people', 'debate', 'order', 'house', 'syria', 'right', 'week', 'meter', 'work', 'saddleworth']\n",
            "20 most unique words in doc #96 ['éminence', 'encompass', 'encumbrance', 'encryption', 'encouraging', 'encourages', 'encouragement', 'encouraged', 'encourage', 'encountered', 'encounter', 'encompasses', 'encompassed', 'enacts', 'endangered', 'enactment', 'enacting', 'enacted', 'enabling', 'enables']\n",
            "20 most unique words in doc #97 ['debauchery', 'ordinated', 'sexual', 'department', 'minister', 'victims', 'important', 'government', 'rainbow', 'beatings', 'anal', 'inciting', 'examinations', 'cairo', 'deviance', 'arrests', 'actors', 'flags', 'pop', 'belonging']\n",
            "20 most unique words in doc #98 ['hon', 'member', 'armed', 'forces', 'friend', 'house', 'right', 'personnel', 'mr', 'flexible', 'need', 'leader', 'women', 'members', 'people', 'minister', 'state', 'government', 'francois', 'wickford']\n",
            "20 most unique words in doc #99 ['hon', 'tax', 'member', 'friend', 'clause', 'new', 'taxes', 'bootle', 'non', 'disease', 'avoidance', 'right', 'government', 'loopholes', 'dowd', 'dodgers', 'pompe', 'aberdeen', 'doms', 'trusts']\n",
            "20 most unique words in doc #100 ['éminence', 'encompass', 'encumbrance', 'encryption', 'encouraging', 'encourages', 'encouragement', 'encouraged', 'encourage', 'encountered', 'encounter', 'encompasses', 'encompassed', 'enacts', 'endangered', 'enactment', 'enacting', 'enacted', 'enabling', 'enables']\n",
            "20 most unique words in doc #101 ['education', 'bullying', 'everybody', 'schools', 'important', 'lgbti', 'ogmore', 'elmore', 'inclusive', 'tribute', 'able', 'sex', 'tie', 'pay', 'usually', 'debate', 'pushing', 'harassment', 'basingstoke', 'source']\n",
            "20 most unique words in doc #102 ['hon', 'mental', 'member', 'health', 'reed', 'friend', 'croydon', 'north', 'people', 'point', 'mr', 'members', 'debate', 'important', 'music', 'gentleman', 'work', 'support', 'units', 'right']\n",
            "20 most unique words in doc #103 ['hon', 'member', 'friend', 'north', 'eea', 'efta', 'transport', 'debate', 'hull', 'diana', 'kingston', 'aberavon', 'government', 'johnson', 'european', 'eu', 'kinnock', 'securing', 'state', 'economic']\n",
            "20 most unique words in doc #104 ['éminence', 'encompass', 'encumbrance', 'encryption', 'encouraging', 'encourages', 'encouragement', 'encouraged', 'encourage', 'encountered', 'encounter', 'encompasses', 'encompassed', 'enacts', 'endangered', 'enactment', 'enacting', 'enacted', 'enabling', 'enables']\n",
            "20 most unique words in doc #105 ['ratcliffe', 'zaghari', 'iranian', 'rouhani', 'iran', 'sentenced', 'mrs', 'minister', 'hassan', 'president', 'prime', 'raised', 'mr', 'york', 'right', 'friend', 'days', 'middle', 'case', 'hon']\n",
            "20 most unique words in doc #106 ['éminence', 'encompass', 'encumbrance', 'encryption', 'encouraging', 'encourages', 'encouragement', 'encouraged', 'encourage', 'encountered', 'encounter', 'encompasses', 'encompassed', 'enacts', 'endangered', 'enactment', 'enacting', 'enacted', 'enabling', 'enables']\n",
            "20 most unique words in doc #107 ['éminence', 'encompass', 'encumbrance', 'encryption', 'encouraging', 'encourages', 'encouragement', 'encouraged', 'encourage', 'encountered', 'encounter', 'encompasses', 'encompassed', 'enacts', 'endangered', 'enactment', 'enacting', 'enacted', 'enabling', 'enables']\n",
            "20 most unique words in doc #108 ['hon', 'member', 'friend', 'universal', 'debate', 'work', 'right', 'credit', 'people', 'duguid', 'buchan', 'banff', 'house', 'committee', 'government', 'defence', 'november', 'aerospace', 'congratulate', 'minister']\n",
            "20 most unique words in doc #109 ['arguments', 'time', 'rehearse', 'republic', 'pm', 'government', 'conscious', 'gainsborough', 'waste', 'withdrawal', 'answers', 'limited', 'intervene', 'leigh', 'highlighted', 'edward', 'ireland', 'northern', 'union', 'wants']\n",
            "20 most unique words in doc #110 ['charter', '302', 'beano', 'echr', 'duplication', 'dispositive', 'inconsequential', 'rights', 'hon', '139', 'creagh', 'adds', 'wakefield', 'confine', 'right', 'mary', 'keith', 'leicester', 'compared', 'member']\n",
            "20 most unique words in doc #111 ['hon', 'member', 'chancellor', 'right', 'friend', 'budget', 'follow', 'billion', 'obr', 'house', 'stamp', 'duty', 'government', 'people', 'pleasure', 'today', 'order', 'debt', 'housing', 'development']\n",
            "20 most unique words in doc #112 ['éminence', 'encompass', 'encumbrance', 'encryption', 'encouraging', 'encourages', 'encouragement', 'encouraged', 'encourage', 'encountered', 'encounter', 'encompasses', 'encompassed', 'enacts', 'endangered', 'enactment', 'enacting', 'enacted', 'enabling', 'enables']\n",
            "20 most unique words in doc #113 ['éminence', 'encompass', 'encumbrance', 'encryption', 'encouraging', 'encourages', 'encouragement', 'encouraged', 'encourage', 'encountered', 'encounter', 'encompasses', 'encompassed', 'enacts', 'endangered', 'enactment', 'enacting', 'enacted', 'enabling', 'enables']\n",
            "20 most unique words in doc #114 ['éminence', 'encompass', 'encumbrance', 'encryption', 'encouraging', 'encourages', 'encouragement', 'encouraged', 'encourage', 'encountered', 'encounter', 'encompasses', 'encompassed', 'enacts', 'endangered', 'enactment', 'enacting', 'enacted', 'enabling', 'enables']\n",
            "20 most unique words in doc #115 ['éminence', 'encompass', 'encumbrance', 'encryption', 'encouraging', 'encourages', 'encouragement', 'encouraged', 'encourage', 'encountered', 'encounter', 'encompasses', 'encompassed', 'enacts', 'endangered', 'enactment', 'enacting', 'enacted', 'enabling', 'enables']\n",
            "20 most unique words in doc #116 ['yemen', 'hon', 'member', 'autism', 'debate', 'friend', 'december', 'missile', 'right', 'mental', 'people', 'health', 'saudi', 'blockade', 'government', 'coldfield', 'house', 'humanitarian', 'committee', 'secretary']\n",
            "20 most unique words in doc #117 ['hon', 'member', 'friend', 'boundaries', 'members', 'boundary', 'right', 'house', 'gorton', 'constituency', 'constituencies', 'mr', 'afzal', 'electoral', 'parliament', 'people', 'khan', 'constituents', 'time', 'government']\n",
            "20 most unique words in doc #118 ['councillor', 'petition', 'proposal', 'peter', 'chickens', 'rushden', 'barnes', 'jenney', 'outrageous', '540', 'tomas', '83d', 'slaughtered', 'chicken', 'higham', '002', 'lindsay', 'factory', 'petitioners', 'farm']\n",
            "20 most unique words in doc #119 ['éminence', 'encompass', 'encumbrance', 'encryption', 'encouraging', 'encourages', 'encouragement', 'encouraged', 'encourage', 'encountered', 'encounter', 'encompasses', 'encompassed', 'enacts', 'endangered', 'enactment', 'enacting', 'enacted', 'enabling', 'enables']\n",
            "20 most unique words in doc #120 ['éminence', 'encompass', 'encumbrance', 'encryption', 'encouraging', 'encourages', 'encouragement', 'encouraged', 'encourage', 'encountered', 'encounter', 'encompasses', 'encompassed', 'enacts', 'endangered', 'enactment', 'enacting', 'enacted', 'enabling', 'enables']\n",
            "20 most unique words in doc #121 ['avenues', 'finds', 'lady', 'unsatisfactory', 'apparent', 'universities', 'science', 'understanding', 'immediate', 'hon', 'detailed', '26', 'innovation', 'various', 'monday', 'research', 'september', 'obviously', 'written', 'yesterday']\n",
            "20 most unique words in doc #122 ['éminence', 'encompass', 'encumbrance', 'encryption', 'encouraging', 'encourages', 'encouragement', 'encouraged', 'encourage', 'encountered', 'encounter', 'encompasses', 'encompassed', 'enacts', 'endangered', 'enactment', 'enacting', 'enacted', 'enabling', 'enables']\n",
            "20 most unique words in doc #123 ['éminence', 'encompass', 'encumbrance', 'encryption', 'encouraging', 'encourages', 'encouragement', 'encouraged', 'encourage', 'encountered', 'encounter', 'encompasses', 'encompassed', 'enacts', 'endangered', 'enactment', 'enacting', 'enacted', 'enabling', 'enables']\n",
            "20 most unique words in doc #124 ['éminence', 'encompass', 'encumbrance', 'encryption', 'encouraging', 'encourages', 'encouragement', 'encouraged', 'encourage', 'encountered', 'encounter', 'encompasses', 'encompassed', 'enacts', 'endangered', 'enactment', 'enacting', 'enacted', 'enabling', 'enables']\n",
            "20 most unique words in doc #125 ['hon', 'women', 'member', 'friend', 'easington', 'grahame', 'government', 'pension', 'waspi', 'morris', 'debate', '1950s', 'state', 'hemel', 'hempstead', 'expectancy', 'age', 'born', 'right', 'people']\n",
            "20 most unique words in doc #126 ['abuse', 'groups', 'amnesty', 'women', 'research', 'highlights', 'intimidation', 'religious', 'report', 'ethnic', 'lgbt', 'period', 'minority', 'highest', 'timely', 'levels', 'right', 'intimidate', 'zenith', 'wears']\n",
            "20 most unique words in doc #127 ['éminence', 'encompass', 'encumbrance', 'encryption', 'encouraging', 'encourages', 'encouragement', 'encouraged', 'encourage', 'encountered', 'encounter', 'encompasses', 'encompassed', 'enacts', 'endangered', 'enactment', 'enacting', 'enacted', 'enabling', 'enables']\n",
            "20 most unique words in doc #128 ['éminence', 'encompass', 'encumbrance', 'encryption', 'encouraging', 'encourages', 'encouragement', 'encouraged', 'encourage', 'encountered', 'encounter', 'encompasses', 'encompassed', 'enacts', 'endangered', 'enactment', 'enacting', 'enacted', 'enabling', 'enables']\n",
            "20 most unique words in doc #129 ['hon', 'member', 'christmas', 'friend', 'house', 'government', 'right', 'year', 'debate', 'people', 'mr', 'new', 'said', 'work', 'committee', 'east', 'members', 'carshalton', 'wallington', 'brake']\n"
          ],
          "name": "stdout"
        }
      ]
    },
    {
      "metadata": {
        "id": "q6QHKlD5zpkg",
        "colab_type": "text"
      },
      "cell_type": "markdown",
      "source": [
        "Here is a toy example of tfidf to play with."
      ]
    },
    {
      "metadata": {
        "id": "7RHEjJyQux7q",
        "colab_type": "code",
        "outputId": "7949ff13-1185-4fa1-d8a7-c9463856d87a",
        "colab": {
          "base_uri": "https://localhost:8080/",
          "height": 170
        }
      },
      "cell_type": "code",
      "source": [
        "text = [\"The quick brown fox jumped over the lazy dog.\",\n",
        "\t\t\"The dog.\",\n",
        "\t\t\"The fox\"]\n",
        "# create the transform\n",
        "vectorizer = TfidfVectorizer()\n",
        "# tokenize and build vocab\n",
        "vectorizer.fit(text)\n",
        "# summarize\n",
        "print('vectorizer.vocabulary_: ')\n",
        "print(vectorizer.vocabulary_)\n",
        "print('vectorizer.idf_: ')\n",
        "print(vectorizer.idf_)\n",
        "# encode document\n",
        "vector = vectorizer.transform([text[1]])\n",
        "# summarize encoded vector\n",
        "print('vector shape and below array')\n",
        "print(vector.shape)\n",
        "print(vector.toarray())"
      ],
      "execution_count": 0,
      "outputs": [
        {
          "output_type": "stream",
          "text": [
            "vectorizer.vocabulary_: \n",
            "{'the': 7, 'quick': 6, 'brown': 0, 'fox': 2, 'jumped': 3, 'over': 5, 'lazy': 4, 'dog': 1}\n",
            "vectorizer.idf_: \n",
            "[1.69314718 1.28768207 1.28768207 1.69314718 1.69314718 1.69314718\n",
            " 1.69314718 1.        ]\n",
            "vector shape and below array\n",
            "(1, 8)\n",
            "[[0.         0.78980693 0.         0.         0.         0.\n",
            "  0.         0.61335554]]\n"
          ],
          "name": "stdout"
        }
      ]
    },
    {
      "metadata": {
        "id": "zx_uz60j7No8",
        "colab_type": "code",
        "colab": {}
      },
      "cell_type": "code",
      "source": [
        ""
      ],
      "execution_count": 0,
      "outputs": []
    },
    {
      "metadata": {
        "id": "sgD24GyDITsg",
        "colab_type": "code",
        "colab": {}
      },
      "cell_type": "code",
      "source": [
        ""
      ],
      "execution_count": 0,
      "outputs": []
    }
  ]
}